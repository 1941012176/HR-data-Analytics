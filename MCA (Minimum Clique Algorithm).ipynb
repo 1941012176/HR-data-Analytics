{
 "cells": [
  {
   "cell_type": "code",
   "execution_count": 1,
   "id": "5f3aa688",
   "metadata": {},
   "outputs": [
    {
     "name": "stdout",
     "output_type": "stream",
     "text": [
      "Minimum cliques: [[0], [1], [2], [3]]\n"
     ]
    }
   ],
   "source": [
    "def is_clique(graph, vertices):\n",
    "    for i in range(len(vertices)):\n",
    "        for j in range(i + 1, len(vertices)):\n",
    "            if not graph[vertices[i]][vertices[j]]:\n",
    "                return False\n",
    "    return True\n",
    "\n",
    "def find_clique(graph, k, current_clique, start_vertex, result):\n",
    "    if k == 0:\n",
    "        result.append(current_clique.copy())\n",
    "        return\n",
    "\n",
    "    for vertex in range(start_vertex, len(graph)):\n",
    "        current_clique.append(vertex)\n",
    "\n",
    "        if is_clique(graph, current_clique):\n",
    "            find_clique(graph, k - 1, current_clique, vertex + 1, result)\n",
    "\n",
    "        current_clique.pop()\n",
    "\n",
    "def minimum_cliques(graph):\n",
    "    result = []\n",
    "    n = len(graph)\n",
    "\n",
    "    for k in range(1, n + 1):\n",
    "        current_clique = []\n",
    "        find_clique(graph, k, current_clique, 0, result)\n",
    "\n",
    "        if result:\n",
    "            return result\n",
    "\n",
    "# Example Usage\n",
    "graph = [\n",
    "    [0, 1, 1, 1],\n",
    "    [1, 0, 1, 0],\n",
    "    [1, 1, 0, 1],\n",
    "    [1, 0, 1, 0]\n",
    "]\n",
    "\n",
    "min_cliques = minimum_cliques(graph)\n",
    "print(\"Minimum cliques:\", min_cliques)\n"
   ]
  },
  {
   "cell_type": "code",
   "execution_count": null,
   "id": "8c955057",
   "metadata": {},
   "outputs": [],
   "source": []
  }
 ],
 "metadata": {
  "kernelspec": {
   "display_name": "Python 3 (ipykernel)",
   "language": "python",
   "name": "python3"
  },
  "language_info": {
   "codemirror_mode": {
    "name": "ipython",
    "version": 3
   },
   "file_extension": ".py",
   "mimetype": "text/x-python",
   "name": "python",
   "nbconvert_exporter": "python",
   "pygments_lexer": "ipython3",
   "version": "3.11.5"
  }
 },
 "nbformat": 4,
 "nbformat_minor": 5
}
